{
  "cells": [
    {
      "cell_type": "markdown",
      "metadata": {
        "id": "view-in-github",
        "colab_type": "text"
      },
      "source": [
        "<a href=\"https://colab.research.google.com/github/nibin101/intelligent_quiz/blob/main/intelligent_quiz_app.ipynb\" target=\"_parent\"><img src=\"https://colab.research.google.com/assets/colab-badge.svg\" alt=\"Open In Colab\"/></a>"
      ]
    },
    {
      "cell_type": "markdown",
      "metadata": {
        "id": "K3yWWtQ8cC4i"
      },
      "source": [
        "# STEP 0: Install dependencies"
      ]
    },
    {
      "cell_type": "markdown",
      "metadata": {
        "id": "XvoFPl11cFhj"
      },
      "source": [
        "# STEP 1: Imports and secure API key input"
      ]
    },
    {
      "cell_type": "code",
      "execution_count": 31,
      "metadata": {
        "id": "QXaYSMSSCx9j"
      },
      "outputs": [],
      "source": [
        "import os\n",
        "import getpass\n"
      ]
    },
    {
      "cell_type": "markdown",
      "metadata": {
        "id": "eusINPuVcLXp"
      },
      "source": [
        "# STEP 2: Initialize Gemini 1.5 Flash"
      ]
    },
    {
      "cell_type": "code",
      "execution_count": 32,
      "metadata": {
        "id": "xxCohNVcF7PB",
        "colab": {
          "base_uri": "https://localhost:8080/"
        },
        "outputId": "ef7feea9-70dd-4650-b4c4-78086a2ae1bf"
      },
      "outputs": [
        {
          "name": "stdout",
          "output_type": "stream",
          "text": [
            "Enter the Gemini api key··········\n"
          ]
        }
      ],
      "source": [
        "os.environ['GOOGLE_API_KEY']=getpass.getpass(\"Enter the Gemini api key\")"
      ]
    },
    {
      "cell_type": "markdown",
      "metadata": {
        "id": "W28u20SxcIiH"
      },
      "source": [
        "\n",
        "# Secure Gemini API Key input"
      ]
    },
    {
      "cell_type": "code",
      "execution_count": 27,
      "metadata": {
        "id": "WnrEGf-yHM9Y"
      },
      "outputs": [],
      "source": [
        "from langchain_google_genai import ChatGoogleGenerativeAI\n",
        "\n",
        "llm=ChatGoogleGenerativeAI(model=\"models/gemini-1.5-flash-latest\" ,temperature=0.2)"
      ]
    },
    {
      "cell_type": "markdown",
      "metadata": {
        "id": "o07zbkLWcOVW"
      },
      "source": [
        "# STEP 3: Node to ask user for symptom"
      ]
    },
    {
      "cell_type": "code",
      "execution_count": 28,
      "metadata": {
        "id": "uNGK9lY7INF1"
      },
      "outputs": [],
      "source": [
        "def get_subject_input(state: dict) -> dict:\n",
        "    \"\"\"Gets the subject input from the user.\"\"\"\n",
        "    subject = input(\"What subject do you want to learn about (physics, chemistry, or maths)? \")\n",
        "    state[\"subject\"] = subject.lower()\n",
        "    return state"
      ]
    },
    {
      "cell_type": "markdown",
      "metadata": {
        "id": "0KIzyYPVcRVm"
      },
      "source": [
        "# STEP 4: Node to classify the symptom"
      ]
    },
    {
      "cell_type": "code",
      "source": [],
      "metadata": {
        "id": "fBIFZ18Pjqd9"
      },
      "execution_count": 28,
      "outputs": []
    },
    {
      "cell_type": "code",
      "execution_count": 29,
      "metadata": {
        "id": "5ab0l3bHmpbG"
      },
      "outputs": [],
      "source": [
        "import json\n",
        "\n",
        "def generate_mcqs(state: dict) -> dict:\n",
        "    \"\"\"Generates 5 MCQ questions on the given subject and stores them in the state.\"\"\"\n",
        "    subject = state[\"subject\"]\n",
        "    prompt = (\n",
        "        f\"Generate 5 multiple-choice questions about {subject}. \"\n",
        "        \"Each question should have 4 options (A, B, C, D) and indicate the correct answer. \"\n",
        "        \"Respond in JSON format as a list of objects, where each object has keys 'question', 'options', and 'answer'.\"\n",
        "        \"Do not include any ''' formatting\"\n",
        "    )\n",
        "    response = llm.invoke([HumanMessage(content=prompt)])\n",
        "    print(response.content)\n",
        "    try:\n",
        "        # Attempt to parse the content directly first\n",
        "        questions_json = json.loads(response.content)\n",
        "        state[\"questions\"] = [(q[\"question\"], q[\"options\"], q[\"answer\"]) for q in questions_json]\n",
        "    except json.JSONDecodeError as e:\n",
        "        print(\"Error decoding JSON response from the language model.\")\n",
        "        print(e)\n",
        "        # If direct parsing fails, try stripping potential markdown formatting\n",
        "        try:\n",
        "            cleaned_response = response.content.strip().replace(\"```json\\n\", \"\").replace(\"```\", \"\")\n",
        "            questions_json = json.loads(cleaned_response)\n",
        "            state[\"questions\"] = [(q[\"question\"], q[\"options\"], q[\"answer\"]) for q in questions_json]\n",
        "        except json.JSONDecodeError as e_cleaned:\n",
        "            print(\"Error decoding JSON response after cleaning.\")\n",
        "            print(e_cleaned)\n",
        "            state[\"questions\"] = []\n",
        "    return state"
      ]
    },
    {
      "cell_type": "markdown",
      "metadata": {
        "id": "kESmxbnicWpS"
      },
      "source": [
        "# STEP 5: Router logic to route to the correct node\n"
      ]
    },
    {
      "cell_type": "code",
      "execution_count": 34,
      "metadata": {
        "id": "0d90qeH3nbKl",
        "colab": {
          "base_uri": "https://localhost:8080/",
          "height": 1000
        },
        "outputId": "6799f90b-3ef0-4ee6-a7a2-2971c1c0623b"
      },
      "outputs": [
        {
          "output_type": "stream",
          "name": "stdout",
          "text": [
            "What subject do you want to learn about and be quizzed on? maths\n",
            "Error decoding JSON response from the language model.\n",
            "Expecting value: line 1 column 1 (char 0)\n",
            "\n",
            "Here are the questions:\n",
            "\n",
            "Question 1: What is the value of x in the equation 3x + 7 = 16?\n",
            "A. 3\n",
            "B. 6\n",
            "C. 9\n",
            "D. 11\n",
            "Your answer (enter the option letter, e.g., A): b\n",
            "Incorrect. The correct answer is A.\n",
            "\n",
            "Question 2: A rectangle has a length of 12cm and a width of 5cm. What is its area?\n",
            "A. 17 cm²\n",
            "B. 26 cm²\n",
            "C. 60 cm²\n",
            "D. 70 cm²\n"
          ]
        },
        {
          "output_type": "stream",
          "name": "stderr",
          "text": [
            "ERROR:root:Internal Python error in the inspect module.\n",
            "Below is the traceback from this internal error.\n",
            "\n"
          ]
        },
        {
          "output_type": "stream",
          "name": "stdout",
          "text": [
            "Traceback (most recent call last):\n",
            "  File \"/usr/local/lib/python3.11/dist-packages/IPython/core/interactiveshell.py\", line 3553, in run_code\n",
            "    exec(code_obj, self.user_global_ns, self.user_ns)\n",
            "  File \"/tmp/ipython-input-850116287.py\", line 149, in <cell line: 0>\n",
            "    main()\n",
            "  File \"/tmp/ipython-input-850116287.py\", line 109, in main\n",
            "    user_answer = input(\"Your answer (enter the option letter, e.g., A): \").upper()\n",
            "                  ^^^^^^^^^^^^^^^^^^^^^^^^^^^^^^^^^^^^^^^^^^^^^^^^^^^^^^^^^\n",
            "  File \"/usr/local/lib/python3.11/dist-packages/ipykernel/kernelbase.py\", line 1177, in raw_input\n",
            "    return self._input_request(\n",
            "           ^^^^^^^^^^^^^^^^^^^^\n",
            "  File \"/usr/local/lib/python3.11/dist-packages/ipykernel/kernelbase.py\", line 1219, in _input_request\n",
            "    raise KeyboardInterrupt(\"Interrupted by user\") from None\n",
            "KeyboardInterrupt: Interrupted by user\n",
            "\n",
            "During handling of the above exception, another exception occurred:\n",
            "\n",
            "Traceback (most recent call last):\n",
            "  File \"/usr/local/lib/python3.11/dist-packages/IPython/core/interactiveshell.py\", line 2099, in showtraceback\n",
            "    stb = value._render_traceback_()\n",
            "          ^^^^^^^^^^^^^^^^^^^^^^^^\n",
            "AttributeError: 'KeyboardInterrupt' object has no attribute '_render_traceback_'\n",
            "\n",
            "During handling of the above exception, another exception occurred:\n",
            "\n",
            "Traceback (most recent call last):\n",
            "  File \"/usr/local/lib/python3.11/dist-packages/IPython/core/ultratb.py\", line 1101, in get_records\n",
            "    return _fixed_getinnerframes(etb, number_of_lines_of_context, tb_offset)\n",
            "           ^^^^^^^^^^^^^^^^^^^^^^^^^^^^^^^^^^^^^^^^^^^^^^^^^^^^^^^^^^^^^^^^^\n",
            "  File \"/usr/local/lib/python3.11/dist-packages/IPython/core/ultratb.py\", line 248, in wrapped\n",
            "    return f(*args, **kwargs)\n",
            "           ^^^^^^^^^^^^^^^^^^\n",
            "  File \"/usr/local/lib/python3.11/dist-packages/IPython/core/ultratb.py\", line 281, in _fixed_getinnerframes\n",
            "    records = fix_frame_records_filenames(inspect.getinnerframes(etb, context))\n",
            "                                          ^^^^^^^^^^^^^^^^^^^^^^^^^^^^^^^^^^^^\n",
            "  File \"/usr/lib/python3.11/inspect.py\", line 1739, in getinnerframes\n",
            "    traceback_info = getframeinfo(tb, context)\n",
            "                     ^^^^^^^^^^^^^^^^^^^^^^^^^\n",
            "  File \"/usr/lib/python3.11/inspect.py\", line 1684, in getframeinfo\n",
            "    filename = getsourcefile(frame) or getfile(frame)\n",
            "               ^^^^^^^^^^^^^^^^^^^^\n",
            "  File \"/usr/lib/python3.11/inspect.py\", line 948, in getsourcefile\n",
            "    module = getmodule(object, filename)\n",
            "             ^^^^^^^^^^^^^^^^^^^^^^^^^^^\n",
            "  File \"/usr/lib/python3.11/inspect.py\", line 969, in getmodule\n",
            "    def getmodule(object, _filename=None):\n",
            "    \n",
            "KeyboardInterrupt\n"
          ]
        },
        {
          "output_type": "error",
          "ename": "TypeError",
          "evalue": "object of type 'NoneType' has no len()",
          "traceback": [
            "\u001b[0;31m---------------------------------------------------------------------------\u001b[0m",
            "\u001b[0;31mKeyboardInterrupt\u001b[0m                         Traceback (most recent call last)",
            "    \u001b[0;31m[... skipping hidden 1 frame]\u001b[0m\n",
            "\u001b[0;32m/tmp/ipython-input-850116287.py\u001b[0m in \u001b[0;36m<cell line: 0>\u001b[0;34m()\u001b[0m\n\u001b[1;32m    148\u001b[0m \u001b[0;32mif\u001b[0m \u001b[0m__name__\u001b[0m \u001b[0;34m==\u001b[0m \u001b[0;34m\"__main__\"\u001b[0m\u001b[0;34m:\u001b[0m\u001b[0;34m\u001b[0m\u001b[0;34m\u001b[0m\u001b[0m\n\u001b[0;32m--> 149\u001b[0;31m     \u001b[0mmain\u001b[0m\u001b[0;34m(\u001b[0m\u001b[0;34m)\u001b[0m\u001b[0;34m\u001b[0m\u001b[0;34m\u001b[0m\u001b[0m\n\u001b[0m",
            "\u001b[0;32m/tmp/ipython-input-850116287.py\u001b[0m in \u001b[0;36mmain\u001b[0;34m()\u001b[0m\n\u001b[1;32m    108\u001b[0m \u001b[0;34m\u001b[0m\u001b[0m\n\u001b[0;32m--> 109\u001b[0;31m                 \u001b[0muser_answer\u001b[0m \u001b[0;34m=\u001b[0m \u001b[0minput\u001b[0m\u001b[0;34m(\u001b[0m\u001b[0;34m\"Your answer (enter the option letter, e.g., A): \"\u001b[0m\u001b[0;34m)\u001b[0m\u001b[0;34m.\u001b[0m\u001b[0mupper\u001b[0m\u001b[0;34m(\u001b[0m\u001b[0;34m)\u001b[0m\u001b[0;34m\u001b[0m\u001b[0;34m\u001b[0m\u001b[0m\n\u001b[0m\u001b[1;32m    110\u001b[0m \u001b[0;34m\u001b[0m\u001b[0m\n",
            "\u001b[0;32m/usr/local/lib/python3.11/dist-packages/ipykernel/kernelbase.py\u001b[0m in \u001b[0;36mraw_input\u001b[0;34m(self, prompt)\u001b[0m\n\u001b[1;32m   1176\u001b[0m             )\n\u001b[0;32m-> 1177\u001b[0;31m         return self._input_request(\n\u001b[0m\u001b[1;32m   1178\u001b[0m             \u001b[0mstr\u001b[0m\u001b[0;34m(\u001b[0m\u001b[0mprompt\u001b[0m\u001b[0;34m)\u001b[0m\u001b[0;34m,\u001b[0m\u001b[0;34m\u001b[0m\u001b[0;34m\u001b[0m\u001b[0m\n",
            "\u001b[0;32m/usr/local/lib/python3.11/dist-packages/ipykernel/kernelbase.py\u001b[0m in \u001b[0;36m_input_request\u001b[0;34m(self, prompt, ident, parent, password)\u001b[0m\n\u001b[1;32m   1218\u001b[0m                 \u001b[0;31m# re-raise KeyboardInterrupt, to truncate traceback\u001b[0m\u001b[0;34m\u001b[0m\u001b[0;34m\u001b[0m\u001b[0m\n\u001b[0;32m-> 1219\u001b[0;31m                 \u001b[0;32mraise\u001b[0m \u001b[0mKeyboardInterrupt\u001b[0m\u001b[0;34m(\u001b[0m\u001b[0;34m\"Interrupted by user\"\u001b[0m\u001b[0;34m)\u001b[0m \u001b[0;32mfrom\u001b[0m \u001b[0;32mNone\u001b[0m\u001b[0;34m\u001b[0m\u001b[0;34m\u001b[0m\u001b[0m\n\u001b[0m\u001b[1;32m   1220\u001b[0m             \u001b[0;32mexcept\u001b[0m \u001b[0mException\u001b[0m\u001b[0;34m:\u001b[0m\u001b[0;34m\u001b[0m\u001b[0;34m\u001b[0m\u001b[0m\n",
            "\u001b[0;31mKeyboardInterrupt\u001b[0m: Interrupted by user",
            "\nDuring handling of the above exception, another exception occurred:\n",
            "\u001b[0;31mAttributeError\u001b[0m                            Traceback (most recent call last)",
            "\u001b[0;32m/usr/local/lib/python3.11/dist-packages/IPython/core/interactiveshell.py\u001b[0m in \u001b[0;36mshowtraceback\u001b[0;34m(self, exc_tuple, filename, tb_offset, exception_only, running_compiled_code)\u001b[0m\n\u001b[1;32m   2098\u001b[0m                         \u001b[0;31m# in the engines. This should return a list of strings.\u001b[0m\u001b[0;34m\u001b[0m\u001b[0;34m\u001b[0m\u001b[0m\n\u001b[0;32m-> 2099\u001b[0;31m                         \u001b[0mstb\u001b[0m \u001b[0;34m=\u001b[0m \u001b[0mvalue\u001b[0m\u001b[0;34m.\u001b[0m\u001b[0m_render_traceback_\u001b[0m\u001b[0;34m(\u001b[0m\u001b[0;34m)\u001b[0m\u001b[0;34m\u001b[0m\u001b[0;34m\u001b[0m\u001b[0m\n\u001b[0m\u001b[1;32m   2100\u001b[0m                     \u001b[0;32mexcept\u001b[0m \u001b[0mException\u001b[0m\u001b[0;34m:\u001b[0m\u001b[0;34m\u001b[0m\u001b[0;34m\u001b[0m\u001b[0m\n",
            "\u001b[0;31mAttributeError\u001b[0m: 'KeyboardInterrupt' object has no attribute '_render_traceback_'",
            "\nDuring handling of the above exception, another exception occurred:\n",
            "\u001b[0;31mTypeError\u001b[0m                                 Traceback (most recent call last)",
            "    \u001b[0;31m[... skipping hidden 1 frame]\u001b[0m\n",
            "\u001b[0;32m/usr/local/lib/python3.11/dist-packages/IPython/core/interactiveshell.py\u001b[0m in \u001b[0;36mshowtraceback\u001b[0;34m(self, exc_tuple, filename, tb_offset, exception_only, running_compiled_code)\u001b[0m\n\u001b[1;32m   2099\u001b[0m                         \u001b[0mstb\u001b[0m \u001b[0;34m=\u001b[0m \u001b[0mvalue\u001b[0m\u001b[0;34m.\u001b[0m\u001b[0m_render_traceback_\u001b[0m\u001b[0;34m(\u001b[0m\u001b[0;34m)\u001b[0m\u001b[0;34m\u001b[0m\u001b[0;34m\u001b[0m\u001b[0m\n\u001b[1;32m   2100\u001b[0m                     \u001b[0;32mexcept\u001b[0m \u001b[0mException\u001b[0m\u001b[0;34m:\u001b[0m\u001b[0;34m\u001b[0m\u001b[0;34m\u001b[0m\u001b[0m\n\u001b[0;32m-> 2101\u001b[0;31m                         stb = self.InteractiveTB.structured_traceback(etype,\n\u001b[0m\u001b[1;32m   2102\u001b[0m                                             value, tb, tb_offset=tb_offset)\n\u001b[1;32m   2103\u001b[0m \u001b[0;34m\u001b[0m\u001b[0m\n",
            "\u001b[0;32m/usr/local/lib/python3.11/dist-packages/IPython/core/ultratb.py\u001b[0m in \u001b[0;36mstructured_traceback\u001b[0;34m(self, etype, value, tb, tb_offset, number_of_lines_of_context)\u001b[0m\n\u001b[1;32m   1365\u001b[0m         \u001b[0;32melse\u001b[0m\u001b[0;34m:\u001b[0m\u001b[0;34m\u001b[0m\u001b[0;34m\u001b[0m\u001b[0m\n\u001b[1;32m   1366\u001b[0m             \u001b[0mself\u001b[0m\u001b[0;34m.\u001b[0m\u001b[0mtb\u001b[0m \u001b[0;34m=\u001b[0m \u001b[0mtb\u001b[0m\u001b[0;34m\u001b[0m\u001b[0;34m\u001b[0m\u001b[0m\n\u001b[0;32m-> 1367\u001b[0;31m         return FormattedTB.structured_traceback(\n\u001b[0m\u001b[1;32m   1368\u001b[0m             self, etype, value, tb, tb_offset, number_of_lines_of_context)\n\u001b[1;32m   1369\u001b[0m \u001b[0;34m\u001b[0m\u001b[0m\n",
            "\u001b[0;32m/usr/local/lib/python3.11/dist-packages/IPython/core/ultratb.py\u001b[0m in \u001b[0;36mstructured_traceback\u001b[0;34m(self, etype, value, tb, tb_offset, number_of_lines_of_context)\u001b[0m\n\u001b[1;32m   1265\u001b[0m         \u001b[0;32mif\u001b[0m \u001b[0mmode\u001b[0m \u001b[0;32min\u001b[0m \u001b[0mself\u001b[0m\u001b[0;34m.\u001b[0m\u001b[0mverbose_modes\u001b[0m\u001b[0;34m:\u001b[0m\u001b[0;34m\u001b[0m\u001b[0;34m\u001b[0m\u001b[0m\n\u001b[1;32m   1266\u001b[0m             \u001b[0;31m# Verbose modes need a full traceback\u001b[0m\u001b[0;34m\u001b[0m\u001b[0;34m\u001b[0m\u001b[0m\n\u001b[0;32m-> 1267\u001b[0;31m             return VerboseTB.structured_traceback(\n\u001b[0m\u001b[1;32m   1268\u001b[0m                 \u001b[0mself\u001b[0m\u001b[0;34m,\u001b[0m \u001b[0metype\u001b[0m\u001b[0;34m,\u001b[0m \u001b[0mvalue\u001b[0m\u001b[0;34m,\u001b[0m \u001b[0mtb\u001b[0m\u001b[0;34m,\u001b[0m \u001b[0mtb_offset\u001b[0m\u001b[0;34m,\u001b[0m \u001b[0mnumber_of_lines_of_context\u001b[0m\u001b[0;34m\u001b[0m\u001b[0;34m\u001b[0m\u001b[0m\n\u001b[1;32m   1269\u001b[0m             )\n",
            "\u001b[0;32m/usr/local/lib/python3.11/dist-packages/IPython/core/ultratb.py\u001b[0m in \u001b[0;36mstructured_traceback\u001b[0;34m(self, etype, evalue, etb, tb_offset, number_of_lines_of_context)\u001b[0m\n\u001b[1;32m   1122\u001b[0m         \u001b[0;34m\"\"\"Return a nice text document describing the traceback.\"\"\"\u001b[0m\u001b[0;34m\u001b[0m\u001b[0;34m\u001b[0m\u001b[0m\n\u001b[1;32m   1123\u001b[0m \u001b[0;34m\u001b[0m\u001b[0m\n\u001b[0;32m-> 1124\u001b[0;31m         formatted_exception = self.format_exception_as_a_whole(etype, evalue, etb, number_of_lines_of_context,\n\u001b[0m\u001b[1;32m   1125\u001b[0m                                                                tb_offset)\n\u001b[1;32m   1126\u001b[0m \u001b[0;34m\u001b[0m\u001b[0m\n",
            "\u001b[0;32m/usr/local/lib/python3.11/dist-packages/IPython/core/ultratb.py\u001b[0m in \u001b[0;36mformat_exception_as_a_whole\u001b[0;34m(self, etype, evalue, etb, number_of_lines_of_context, tb_offset)\u001b[0m\n\u001b[1;32m   1080\u001b[0m \u001b[0;34m\u001b[0m\u001b[0m\n\u001b[1;32m   1081\u001b[0m \u001b[0;34m\u001b[0m\u001b[0m\n\u001b[0;32m-> 1082\u001b[0;31m         \u001b[0mlast_unique\u001b[0m\u001b[0;34m,\u001b[0m \u001b[0mrecursion_repeat\u001b[0m \u001b[0;34m=\u001b[0m \u001b[0mfind_recursion\u001b[0m\u001b[0;34m(\u001b[0m\u001b[0morig_etype\u001b[0m\u001b[0;34m,\u001b[0m \u001b[0mevalue\u001b[0m\u001b[0;34m,\u001b[0m \u001b[0mrecords\u001b[0m\u001b[0;34m)\u001b[0m\u001b[0;34m\u001b[0m\u001b[0;34m\u001b[0m\u001b[0m\n\u001b[0m\u001b[1;32m   1083\u001b[0m \u001b[0;34m\u001b[0m\u001b[0m\n\u001b[1;32m   1084\u001b[0m         \u001b[0mframes\u001b[0m \u001b[0;34m=\u001b[0m \u001b[0mself\u001b[0m\u001b[0;34m.\u001b[0m\u001b[0mformat_records\u001b[0m\u001b[0;34m(\u001b[0m\u001b[0mrecords\u001b[0m\u001b[0;34m,\u001b[0m \u001b[0mlast_unique\u001b[0m\u001b[0;34m,\u001b[0m \u001b[0mrecursion_repeat\u001b[0m\u001b[0;34m)\u001b[0m\u001b[0;34m\u001b[0m\u001b[0;34m\u001b[0m\u001b[0m\n",
            "\u001b[0;32m/usr/local/lib/python3.11/dist-packages/IPython/core/ultratb.py\u001b[0m in \u001b[0;36mfind_recursion\u001b[0;34m(etype, value, records)\u001b[0m\n\u001b[1;32m    380\u001b[0m     \u001b[0;31m# first frame (from in to out) that looks different.\u001b[0m\u001b[0;34m\u001b[0m\u001b[0;34m\u001b[0m\u001b[0m\n\u001b[1;32m    381\u001b[0m     \u001b[0;32mif\u001b[0m \u001b[0;32mnot\u001b[0m \u001b[0mis_recursion_error\u001b[0m\u001b[0;34m(\u001b[0m\u001b[0metype\u001b[0m\u001b[0;34m,\u001b[0m \u001b[0mvalue\u001b[0m\u001b[0;34m,\u001b[0m \u001b[0mrecords\u001b[0m\u001b[0;34m)\u001b[0m\u001b[0;34m:\u001b[0m\u001b[0;34m\u001b[0m\u001b[0;34m\u001b[0m\u001b[0m\n\u001b[0;32m--> 382\u001b[0;31m         \u001b[0;32mreturn\u001b[0m \u001b[0mlen\u001b[0m\u001b[0;34m(\u001b[0m\u001b[0mrecords\u001b[0m\u001b[0;34m)\u001b[0m\u001b[0;34m,\u001b[0m \u001b[0;36m0\u001b[0m\u001b[0;34m\u001b[0m\u001b[0;34m\u001b[0m\u001b[0m\n\u001b[0m\u001b[1;32m    383\u001b[0m \u001b[0;34m\u001b[0m\u001b[0m\n\u001b[1;32m    384\u001b[0m     \u001b[0;31m# Select filename, lineno, func_name to track frames with\u001b[0m\u001b[0;34m\u001b[0m\u001b[0;34m\u001b[0m\u001b[0m\n",
            "\u001b[0;31mTypeError\u001b[0m: object of type 'NoneType' has no len()"
          ]
        }
      ],
      "source": [
        "import json\n",
        "import re\n",
        "from langchain_core.messages import HumanMessage\n",
        "from langchain_google_genai import ChatGoogleGenerativeAI\n",
        "\n",
        "def get_subject_input(state: dict) -> dict:\n",
        "    \"\"\"Gets the subject input from the user.\"\"\"\n",
        "    subject = input(\"What subject do you want to learn about and be quizzed on? \")\n",
        "    state[\"subject\"] = subject.lower()\n",
        "    return state\n",
        "\n",
        "def generate_mcqs(state: dict) -> dict:\n",
        "    \"\"\"Generates 5 MCQ questions on the given subject and stores them in the state.\"\"\"\n",
        "    subject = state[\"subject\"]\n",
        "    prompt = (\n",
        "        f\"Generate 5 multiple-choice questions about {subject} at a mid average difficulty level. \"\n",
        "        \"Each question should have 4 options (A, B, C, D) and indicate the correct answer. \"\n",
        "        \"Respond in JSON format as a list of objects, where each object has keys 'question', 'options', and 'answer'.\"\n",
        "        \"Do not include any ''' formatting\"\n",
        "    )\n",
        "    # Ensure llm is defined or imported if needed here\n",
        "    # response = llm.invoke([HumanMessage(content=prompt)]) # Uncomment and ensure llm is available\n",
        "\n",
        "    # Mock response for demonstration if llm is not available\n",
        "    # response_content = \"\"\"\n",
        "    # [\n",
        "    #     {\n",
        "    #         \"question\": \"What is the chemical symbol for water?\",\n",
        "    #         \"options\": {\"A\": \"O2\", \"B\": \"H2O\", \"C\": \"CO2\", \"D\": \"NaCl\"},\n",
        "    #         \"answer\": \"B\"\n",
        "    #     },\n",
        "    #     {\n",
        "    #         \"question\": \"What is the capital of France?\",\n",
        "    #         \"options\": {\"A\": \"Berlin\", \"B\": \"Madrid\", \"C\": \"Paris\", \"D\": \"Rome\"},\n",
        "    #         \"answer\": \"C\"\n",
        "    #     },\n",
        "    #     {\n",
        "    #         \"question\": \"What is the largest planet in our solar system?\",\n",
        "    #         \"options\": {\"A\": \"Earth\", \"B\": \"Mars\", \"C\": \"Jupiter\", \"D\": \"Venus\"},\n",
        "    #         \"answer\": \"C\"\n",
        "    #     },\n",
        "    #     {\n",
        "    #         \"question\": \"What is the square root of 64?\",\n",
        "    #         \"options\": {\"A\": \"6\", \"B\": \"7\", \"C\": \"8\", \"D\": \"9\"},\n",
        "    #         \"answer\": \"C\"\n",
        "    #     },\n",
        "    #     {\n",
        "    #         \"question\": \"Who wrote 'Romeo and Juliet'?\",\n",
        "    #         \"options\": {\"A\": \"Charles Dickens\", \"B\": \"William Shakespeare\", \"C\": \"Jane Austen\", \"D\": \"Leo Tolstoy\"},\n",
        "    #         \"answer\": \"B\"\n",
        "    #     }\n",
        "    # ]\n",
        "    # \"\"\"\n",
        "    # Replace the mock response with the actual LLM call when available\n",
        "    try:\n",
        "        # llm=ChatGoogleGenerativeAI(model=\"models/gemini-1.5-flash-latest\" ,temperature=0.2) # Removed redundant initialization\n",
        "        response = llm.invoke([HumanMessage(content=prompt)])\n",
        "        questions_json = json.loads(response.content)\n",
        "        state[\"questions\"] = [(q[\"question\"], q[\"options\"], q[\"answer\"]) for q in questions_json]\n",
        "    except json.JSONDecodeError as e:\n",
        "        print(\"Error decoding JSON response from the language model.\")\n",
        "        print(e)\n",
        "        try:\n",
        "            cleaned_response = response.content.strip().replace(\"```json\\n\", \"\").replace(\"```\", \"\")\n",
        "            questions_json = json.loads(cleaned_response)\n",
        "            state[\"questions\"] = [(q[\"question\"], q[\"options\"], q[\"answer\"]) for q in questions_json]\n",
        "        except json.JSONDecodeError as e_cleaned:\n",
        "            print(\"Error decoding JSON response after cleaning.\")\n",
        "            print(e_cleaned)\n",
        "            state[\"questions\"] = []\n",
        "\n",
        "    # Using mock response for now\n",
        "    # try:\n",
        "    #     questions_json = json.loads(response_content)\n",
        "    #     state[\"questions\"] = [(q[\"question\"], q[\"options\"], q[\"answer\"]) for q in questions_json]\n",
        "    # except json.JSONDecodeError as e:\n",
        "    #     print(\"Error decoding mock JSON response.\")\n",
        "    #     print(e)\n",
        "    #     state[\"questions\"] = []\n",
        "\n",
        "    return state\n",
        "\n",
        "\n",
        "def main():\n",
        "    state = {}\n",
        "    state = get_subject_input(state)\n",
        "\n",
        "    while True:\n",
        "        state = generate_mcqs(state)\n",
        "\n",
        "        correct_answers = 0\n",
        "        total_questions = len(state.get(\"questions\", []))\n",
        "        answered_correctly = []\n",
        "        answered_incorrectly = []\n",
        "\n",
        "        # Display MCQs and get user answers\n",
        "        if state.get(\"questions\"):\n",
        "            print(\"\\nHere are the questions:\")\n",
        "            for i, (question, options, answer) in enumerate(state[\"questions\"]):\n",
        "                # Remove <sup> tags from the question\n",
        "                cleaned_question = re.sub(r'<sup[^>]*>.*?</sup>', '', question)\n",
        "                print(f\"\\nQuestion {i+1}: {cleaned_question}\")\n",
        "                # Iterate through the options dictionary to display letter and text\n",
        "                for letter, option_text in options.items():\n",
        "                    # Remove <sup> tags from the options\n",
        "                    cleaned_option_text = re.sub(r'<sup[^>]*>.*?</sup>', '', option_text)\n",
        "                    print(f\"{letter}. {cleaned_option_text}\")\n",
        "\n",
        "                user_answer = input(\"Your answer (enter the option letter, e.g., A): \").upper()\n",
        "\n",
        "                # Check if the answer is correct\n",
        "                # Simplified check based on the dictionary answer\n",
        "                correct_option_letter = answer\n",
        "\n",
        "\n",
        "                if user_answer == correct_option_letter:\n",
        "                    print(\"Correct!\")\n",
        "                    correct_answers += 1\n",
        "                    answered_correctly.append(question)\n",
        "                else:\n",
        "                    print(f\"Incorrect. The correct answer is {correct_option_letter}.\")\n",
        "                    answered_incorrectly.append(question)\n",
        "        else:\n",
        "            print(\"No questions were generated.\")\n",
        "\n",
        "        # Print the score\n",
        "        if total_questions > 0:\n",
        "            print(f\"\\nYour score: {correct_answers}/{total_questions}\")\n",
        "\n",
        "            # Use LLM to summarize topics\n",
        "            if answered_incorrectly:\n",
        "                print(\"\\nHere's a summary of the topics you answered incorrectly:\")\n",
        "                for incorrect_question in answered_incorrectly:\n",
        "                    incorrect_topic_prompt = f\"Explain the topic of the following question in a short paragraph:\\n{incorrect_question}\"\n",
        "                    llm = ChatGoogleGenerativeAI(model=\"models/gemini-1.5-flash-latest\" ,temperature=0.2)\n",
        "                    incorrect_topic_response = llm.invoke([HumanMessage(content=incorrect_topic_prompt)])\n",
        "                    cleaned_incorrect_topic_explanation = incorrect_topic_response.content.replace('**', '')\n",
        "                    print(f\"\\n{cleaned_incorrect_topic_explanation}\")\n",
        "\n",
        "            # Ask for the next topic\n",
        "            next_subject = input(\"\\nWhich topic would you like to be quizzed on next? (or type 'quit' to exit) \")\n",
        "            if next_subject.lower() == 'quit':\n",
        "                break\n",
        "            state[\"subject\"] = next_subject.lower()\n",
        "            print(f\"Okay, I will generate questions about {next_subject} next.\")\n",
        "\n",
        "\n",
        "if __name__ == \"__main__\":\n",
        "    main()"
      ]
    },
    {
      "cell_type": "code",
      "source": [],
      "metadata": {
        "id": "PEJToOxQj-mr"
      },
      "execution_count": null,
      "outputs": []
    },
    {
      "cell_type": "markdown",
      "metadata": {
        "id": "cZuR4VGscake"
      },
      "source": [
        "# STEP 6: Category-specific response nodes\n"
      ]
    },
    {
      "cell_type": "code",
      "execution_count": null,
      "metadata": {
        "id": "JUBdWPVWQjRA"
      },
      "outputs": [],
      "source": [
        "def general_node(stae:dict)->dict\n",
        "  state[\"answer\"]=f\"{state['state']} sems to be general .you are being directed to cunsulting a general doctor\"\n",
        "\n"
      ]
    },
    {
      "cell_type": "markdown",
      "metadata": {
        "id": "I1ek0SwzcehS"
      },
      "source": [
        "# STEP 7: Build LangGraph\n"
      ]
    },
    {
      "cell_type": "code",
      "execution_count": null,
      "metadata": {
        "id": "APpX2iWSl_MR"
      },
      "outputs": [],
      "source": []
    },
    {
      "cell_type": "markdown",
      "metadata": {
        "id": "GbAgCeZYci5k"
      },
      "source": [
        "# STEP 8: Compile and invoke the graph\n"
      ]
    }
  ],
  "metadata": {
    "colab": {
      "provenance": [],
      "include_colab_link": true
    },
    "kernelspec": {
      "display_name": "Python 3",
      "name": "python3"
    },
    "language_info": {
      "name": "python"
    }
  },
  "nbformat": 4,
  "nbformat_minor": 0
}